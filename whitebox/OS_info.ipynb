{
 "cells": [
  {
   "cell_type": "code",
   "execution_count": 1,
   "metadata": {},
   "outputs": [],
   "source": [
    "import platform\n",
    "import sys\n",
    "\n",
    "def print_environment_info():\n",
    "    print(\"📌 Current operating system:\", platform.system(), platform.release())\n",
    "    print(\"📌 Python version:\", sys.version)"
   ]
  },
  {
   "cell_type": "code",
   "execution_count": 7,
   "metadata": {},
   "outputs": [],
   "source": [
    "import platform\n",
    "import os\n",
    "\n",
    "def get_platform_key():\n",
    "    \"\"\"Get the current platform identifier（macOS / Windows / Linux）\"\"\"\n",
    "    sysname = platform.system().lower()\n",
    "    if 'darwin' in sysname:\n",
    "        return 'macOS'\n",
    "    elif 'windows' in sysname:\n",
    "        return 'Windows'\n",
    "    elif 'linux' in sysname:\n",
    "        return 'Linux'\n",
    "    return 'Unknown'\n",
    "\n",
    "key = get_platform_key()"
   ]
  },
  {
   "cell_type": "markdown",
   "metadata": {},
   "source": [
    "##### 环境汇总"
   ]
  },
  {
   "cell_type": "code",
   "execution_count": 8,
   "metadata": {},
   "outputs": [
    {
     "name": "stdout",
     "output_type": "stream",
     "text": [
      "📌 Current operating system: Darwin 24.1.0\n",
      "📌 Python version: 3.12.4 | packaged by Anaconda, Inc. | (main, Jun 18 2024, 10:07:17) [Clang 14.0.6 ]\n"
     ]
    }
   ],
   "source": [
    "# mac \n",
    "if key == 'macOS':\n",
    "    print_environment_info()"
   ]
  },
  {
   "cell_type": "code",
   "execution_count": 5,
   "metadata": {},
   "outputs": [
    {
     "name": "stdout",
     "output_type": "stream",
     "text": [
      "📌 Current operating system: Windows 11\n",
      "📌 Python version: 3.12.4 | packaged by Anaconda, Inc. | (main, Jun 18 2024, 15:03:56) [MSC v.1929 64 bit (AMD64)]\n"
     ]
    }
   ],
   "source": [
    "# windows \n",
    "if key == 'Windows':\n",
    "    print_environment_info()"
   ]
  },
  {
   "cell_type": "code",
   "execution_count": null,
   "metadata": {},
   "outputs": [
    {
     "name": "stdout",
     "output_type": "stream",
     "text": [
      "📌 Current operating system: Linux 6.14.6-zen1-1-zen\n",
      "📌 Python version: 3.12.4 (main, May 20 2025, 15:56:44) [GCC 15.1.1 20250425]\n"
     ]
    }
   ],
   "source": [
    "# Liunx \n",
    "if key == 'Linux':\n",
    "    print_environment_info()"
   ]
  }
 ],
 "metadata": {
  "kernelspec": {
   "display_name": "bth312",
   "language": "python",
   "name": "python3"
  },
  "language_info": {
   "codemirror_mode": {
    "name": "ipython",
    "version": 3
   },
   "file_extension": ".py",
   "mimetype": "text/x-python",
   "name": "python",
   "nbconvert_exporter": "python",
   "pygments_lexer": "ipython3",
   "version": "3.12.4"
  }
 },
 "nbformat": 4,
 "nbformat_minor": 2
}
