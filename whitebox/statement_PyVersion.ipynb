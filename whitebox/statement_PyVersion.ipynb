{
 "cells": [
  {
   "cell_type": "markdown",
   "metadata": {},
   "source": [
    "## 🧪 White-box Testing: Statement Coverage under Different Python Versions"
   ]
  },
  {
   "cell_type": "markdown",
   "metadata": {},
   "source": [
    "### 1️⃣ Background and Objectives\n",
    "> This notebook evaluates whether Python's `pickle` module produces deterministic serialized output when executing various **statements** under different Python versions (3.7.12 and 3.12.4) on the **same OS**.\n"
   ]
  },
  {
   "cell_type": "markdown",
   "metadata": {},
   "source": [
    "### 2️⃣ Environment Information\n",
    "> This code identifies the Python version used in the test."
   ]
  },
  {
   "cell_type": "code",
   "execution_count": 2,
   "metadata": {},
   "outputs": [],
   "source": [
    "import platform\n",
    "import sys\n",
    "\n",
    "def print_environment_info():\n",
    "    print(\"📌 Current operating system:\", platform.system(), platform.release())\n",
    "    print(\"📌 Python version:\", sys.version)"
   ]
  },
  {
   "cell_type": "code",
   "execution_count": 2,
   "metadata": {},
   "outputs": [
    {
     "name": "stdout",
     "output_type": "stream",
     "text": [
      "📌 Current operating system: Windows 10\n",
      "📌 Python version: 3.7.12 | packaged by conda-forge | (default, Oct 26 2021, 05:35:01) [MSC v.1916 64 bit (AMD64)]\n"
     ]
    }
   ],
   "source": [
    "print_environment_info()"
   ]
  },
  {
   "cell_type": "code",
   "execution_count": 3,
   "metadata": {},
   "outputs": [
    {
     "name": "stdout",
     "output_type": "stream",
     "text": [
      "📌 Current operating system: Windows 11\n",
      "📌 Python version: 3.12.4 | packaged by Anaconda, Inc. | (main, Jun 18 2024, 15:03:56) [MSC v.1929 64 bit (AMD64)]\n"
     ]
    }
   ],
   "source": [
    "print_environment_info()"
   ]
  },
  {
   "cell_type": "markdown",
   "metadata": {},
   "source": [
    "### 3️⃣ Test Cases and Input Structures\n",
    "> Each input structure is mapped to a specific branch logic (e.g., empty vs. non-empty lists)."
   ]
  },
  {
   "cell_type": "code",
   "execution_count": 4,
   "metadata": {},
   "outputs": [],
   "source": [
    "import pickle\n",
    "import hashlib\n",
    "\n",
    "def get_hash(obj):\n",
    "    \"\"\"Return the SHA256 hash value of the object after pickle serialization\"\"\"\n",
    "    return hashlib.sha256(pickle.dumps(obj)).hexdigest()"
   ]
  },
  {
   "cell_type": "code",
   "execution_count": 5,
   "metadata": {},
   "outputs": [],
   "source": [
    "import os\n",
    "\n",
    "def save_result_by_python_version(case_name, value_hash, file_path=\"statement_python_hashes.txt\"):\n",
    "    py_version = \".\".join(sys.version.split(\" \")[0].split(\".\")[:2])\n",
    "    block = f\"{case_name}\\n{py_version.ljust(10)}Result: {value_hash}\\n\"\n",
    "\n",
    "    if os.path.exists(file_path):\n",
    "        with open(file_path, \"r\", encoding=\"utf-8\") as f:\n",
    "            content = f.read()\n",
    "    else:\n",
    "        content = \"\"\n",
    "\n",
    "    blocks = content.strip().split(\"\\n\\n\") if content else []\n",
    "    updated = False\n",
    "\n",
    "    for i in range(len(blocks)):\n",
    "        if blocks[i].startswith(case_name):\n",
    "            lines = blocks[i].split(\"\\n\")\n",
    "            lines = [line for line in lines if not line.startswith(py_version)]\n",
    "            lines.append(f\"{py_version.ljust(10)}Result: {value_hash}\")\n",
    "            blocks[i] = \"\\n\".join(lines)\n",
    "            updated = True\n",
    "            break\n",
    "\n",
    "    if not updated:\n",
    "        blocks.append(block.strip())\n",
    "\n",
    "    with open(file_path, \"w\", encoding=\"utf-8\") as f:\n",
    "        f.write(\"\\n\\n\".join(blocks) + \"\\n\")\n"
   ]
  },
  {
   "cell_type": "code",
   "execution_count": 6,
   "metadata": {},
   "outputs": [],
   "source": [
    "import tempfile\n",
    "\n",
    "class MyClass:\n",
    "    def __init__(self):\n",
    "        self.x = 42\n",
    "\n",
    "def run_statement_tests_by_version():\n",
    "    save_result_by_python_version(\"TC_SC_01 Integer object\", get_hash(123))\n",
    "    save_result_by_python_version(\"TC_SC_02 List object\", get_hash([1, 2, 3]))\n",
    "    save_result_by_python_version(\"TC_SC_03 Nested dictionary\", get_hash({\"a\": {\"b\": {\"c\": 1}}}))\n",
    "    save_result_by_python_version(\"TC_SC_04 Custom class object\", get_hash(MyClass()))\n",
    "    \n",
    "    data1 = {\"hello\": [1, 2, 3]}\n",
    "    with tempfile.NamedTemporaryFile(delete=False) as f:\n",
    "        pickle.dump(data1, f)\n",
    "        filepath = f.name\n",
    "    with open(filepath, \"rb\") as f:\n",
    "        loaded1 = pickle.load(f)\n",
    "    save_result_by_python_version(\"TC_IO_01 File I/O consistency\", get_hash(loaded1))\n",
    "    os.remove(filepath)\n",
    "\n",
    "    data2 = {\"name\": \"Alice\", \"age\": 30}\n",
    "    b = pickle.dumps(data2)\n",
    "    restored = pickle.loads(b)\n",
    "    save_result_by_python_version(\"TC_IO_02 Bytes I/O consistency\", get_hash(restored))\n",
    "\n",
    "    try:\n",
    "        pickle.loads(b\"\")\n",
    "    except EOFError as e:\n",
    "        save_result_by_python_version(\"TC_IO_03 Empty byte stream error\", get_hash(str(e)))\n",
    "\n",
    "    try:\n",
    "        pickle.loads(b\"not a pickle\")\n",
    "    except pickle.UnpicklingError as e:\n",
    "        save_result_by_python_version(\"TC_IO_04 Invalid byte stream error\", get_hash(str(e)))\n"
   ]
  },
  {
   "cell_type": "code",
   "execution_count": 7,
   "metadata": {},
   "outputs": [],
   "source": [
    "run_statement_tests_by_version()"
   ]
  },
  {
   "cell_type": "code",
   "execution_count": 8,
   "metadata": {},
   "outputs": [],
   "source": [
    "def print_version_results(file_path=\"statement_python_hashes.txt\"):\n",
    "    if not os.path.exists(file_path):\n",
    "        print(\"❌ No result file found.\")\n",
    "        return\n",
    "    with open(file_path, \"r\", encoding=\"utf-8\") as f:\n",
    "        print(\"✅ Recorded results:\\n\")\n",
    "        print(f.read())"
   ]
  },
  {
   "cell_type": "markdown",
   "metadata": {},
   "source": [
    "### 4️⃣ Platform-specific Hash Results\n",
    "> Hash outputs for each test case executed on macOS, Windows, and Linux."
   ]
  },
  {
   "cell_type": "code",
   "execution_count": 9,
   "metadata": {},
   "outputs": [
    {
     "name": "stdout",
     "output_type": "stream",
     "text": [
      "✅ Recorded results:\n",
      "\n",
      "TC_SC_01 Integer object\n",
      "3.12      Result: b78afd939a4aef912cfa7945f436bb5de305a4dc69cae7af84ddd948519f3a31\n",
      "3.7       Result: ca9493975e3875030e2d5a5c2265f13827a049d4473f62a448d71c05cd0e41ce\n",
      "\n",
      "TC_SC_02 List object\n",
      "3.12      Result: f9343d7d7ec5c3d8bcced056c438fc9f1d3819e9ca3d42418a40857050e10e20\n",
      "3.7       Result: 0b2e0ab2f9000007b958bb4453492309dae1c6e1ddd4428f53455b053d662e67\n",
      "\n",
      "TC_SC_03 Nested dictionary\n",
      "3.12      Result: 46216ca97eebc983a09cf7458c32f2729fdb45b99151fb47939d51addc34c162\n",
      "3.7       Result: 47cabfa3ba087c959992b7202c61311211c457a480a578a6375a27fea5adbba0\n",
      "\n",
      "TC_SC_04 Custom class object\n",
      "3.12      Result: dcfdf5f39f6649b2a26f445ee7f6e9c4bc0f087899683146f6a0a2561c9d3ee7\n",
      "3.7       Result: 597fdbdbed85070e944ef0258a8c8cc5681aedeb0c33a5b21b13aa57c331e7d3\n",
      "\n",
      "TC_IO_01 File I/O consistency\n",
      "3.12      Result: eebed109eb579b15e13ec8e5363fa6443fbc257d588f726f850cf3533fc38e38\n",
      "3.7       Result: 463c652e7f39053c03c19f3e2971529b0394e31c5845a42c27ca198ab558d7ce\n",
      "\n",
      "TC_IO_02 Bytes I/O consistency\n",
      "3.12      Result: bc65c78627ed9f44a1f7d8e3823e274968aeff4a5e3f10117bbc449f84229ef9\n",
      "3.7       Result: e5bc9a02a94d5ac849464af954b8e1a3617fd64bfa93ca149a477640ad79fe81\n",
      "\n",
      "TC_IO_03 Empty byte stream error\n",
      "3.12      Result: 7b28057c88bd9c9b14f9f90be00f87b08c485b3e9cc2ba1cdd9ea7ffa44c401e\n",
      "3.7       Result: 69f2479ab0f7a4cdb5972621113c474f49b4ebcacd295940348c0cac21d75999\n",
      "\n",
      "TC_IO_04 Invalid byte stream error\n",
      "3.12      Result: 4c883567c97b94d54cf53e14597c7f8f92ae217b7d22c7f4ff77f5c0df8c238a\n",
      "3.7       Result: a7b2ecc1b7b5d363f7f1b0482664ede8c14fdab84d535c1ad6a1707022c34da9\n",
      "\n"
     ]
    }
   ],
   "source": [
    "print_version_results(\"statement_python_hashes.txt\")"
   ]
  },
  {
   "cell_type": "markdown",
   "metadata": {},
   "source": [
    "### 5️⃣ Consistency Analysis and Divergence Detection\n",
    "\n",
    "All test cases were executed on the same operating system under two Python versions: **3.12.4** and **3.7.12**.  \n",
    "The serialized outputs from `pickle.dumps()` were hashed using SHA256 and compared across versions.\n",
    "\n",
    "**Result:** All test cases resulted in different hashes between Python 3.12 and 3.7, including both standard values and exception messages.\n",
    "\n",
    "#### ⚠️ Test cases with inconsistent hashes across Python versions:\n",
    "\n",
    "| Test Case ID     | Description                          |\n",
    "|------------------|--------------------------------------|\n",
    "| TC_SC_01         | Integer object                       |\n",
    "| TC_SC_02         | List object                          |\n",
    "| TC_SC_03         | Nested dictionary                    |\n",
    "| TC_SC_04         | Custom class object                  |\n",
    "| TC_IO_01         | File I/O consistency                 |\n",
    "| TC_IO_02         | Bytes I/O consistency                |\n",
    "| TC_IO_03         | Empty byte stream error              |\n",
    "| TC_IO_04         | Invalid byte stream error            |\n",
    "\n",
    "<br>\n",
    "\n",
    "> Even exception cases (e.g., EOFError and UnpicklingError) produced different message byte streams across versions, confirming that `pickle`'s internal structure and error reporting is version-sensitive.\n"
   ]
  },
  {
   "cell_type": "markdown",
   "metadata": {},
   "source": [
    "### 6️⃣ Conclusions and Findings\n",
    "\n",
    "The `pickle` module, when tested under **Python 3.12.4** and **Python 3.7.12** on the **same operating system**, did **not** demonstrate deterministic behavior at the binary (hash) level in any test case, despite identical input logic.\n",
    "\n",
    "#### 🔍 Key Findings:\n",
    "\n",
    "- ❌ All tested statements produced different SHA256 hashes between Python 3.7 and 3.12;\n",
    "- ❌ Even error-handling code (`pickle.loads(\"\")`, invalid byte content) showed version-specific output hashes;\n",
    "- ⚙️ The differences likely stem from structural or metadata changes in pickle protocol implementations across versions.\n",
    "\n",
    "#### ⚠️ Limitations:\n",
    "\n",
    "- Only two Python versions (3.12.4, 3.7.12) were tested; intermediate versions were not included;\n",
    "- The pickle protocol level was not explicitly varied (default used);\n",
    "- Only one operating system and architecture was used (e.g., x86-64); results may differ under ARM, PyPy, etc.\n",
    "\n",
    "> For any use case requiring binary-level stability (e.g., cache validation, file integrity, reproducibility), pickle is unsuitable across Python versions. Alternative formats like JSON or Protocol Buffers are recommended.\n"
   ]
  },
  {
   "cell_type": "markdown",
   "metadata": {},
   "source": [
    "### 📎 Appendix: Raw Data File\n",
    "\n",
    "The complete platform hash records can be found in the following file:\n",
    "\n",
    "👉 [Download statement_python_hashes.txt](./statement_python_hashes.txt)"
   ]
  },
  {
   "cell_type": "markdown",
   "metadata": {},
   "source": []
  }
 ],
 "metadata": {
  "kernelspec": {
   "display_name": "bth312",
   "language": "python",
   "name": "python3"
  },
  "language_info": {
   "codemirror_mode": {
    "name": "ipython",
    "version": 3
   },
   "file_extension": ".py",
   "mimetype": "text/x-python",
   "name": "python",
   "nbconvert_exporter": "python",
   "pygments_lexer": "ipython3",
   "version": "3.12.4"
  }
 },
 "nbformat": 4,
 "nbformat_minor": 2
}
