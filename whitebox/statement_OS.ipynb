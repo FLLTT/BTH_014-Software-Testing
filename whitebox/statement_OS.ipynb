{
 "cells": [
  {
   "cell_type": "markdown",
   "metadata": {},
   "source": [
    "## 🧪 White-box Testing: Statement Coverage and Cross-Platform Consistency"
   ]
  },
  {
   "cell_type": "markdown",
   "metadata": {},
   "source": [
    "### 1️⃣ Background and Objectives\n",
    "> This notebook validates whether the `pickle` module behaves consistently (hash-wise) across different OSes using **statement-based white-box tests**."
   ]
  },
  {
   "cell_type": "markdown",
   "metadata": {},
   "source": [
    "### 2️⃣ Environment Information\n",
    "> Listing OS platform and Python version to contextualize the hash output environment."
   ]
  },
  {
   "cell_type": "code",
   "execution_count": 1,
   "metadata": {},
   "outputs": [],
   "source": [
    "import platform\n",
    "import sys\n",
    "\n",
    "def print_environment_info():\n",
    "    print(\"📌 Current operating system:\", platform.system(), platform.release())\n",
    "    print(\"📌 Python version:\", sys.version)"
   ]
  },
  {
   "cell_type": "code",
   "execution_count": 3,
   "metadata": {},
   "outputs": [],
   "source": [
    "import platform\n",
    "import os\n",
    "\n",
    "def get_platform_key():\n",
    "    \"\"\"Get the current platform identifier（macOS / Windows / Linux）\"\"\"\n",
    "    sysname = platform.system().lower()\n",
    "    if 'darwin' in sysname:\n",
    "        return 'macOS'\n",
    "    elif 'windows' in sysname:\n",
    "        return 'Windows'\n",
    "    elif 'linux' in sysname:\n",
    "        return 'Linux'\n",
    "    return 'Unknown'\n",
    "\n",
    "key = get_platform_key()\n"
   ]
  },
  {
   "cell_type": "code",
   "execution_count": null,
   "metadata": {},
   "outputs": [
    {
     "name": "stdout",
     "output_type": "stream",
     "text": [
      "📌 Current operating system: Darwin 24.1.0\n",
      "📌 Python version: 3.12.4 | packaged by Anaconda, Inc. | (main, Jun 18 2024, 10:07:17) [Clang 14.0.6 ]\n"
     ]
    }
   ],
   "source": [
    "# mac \n",
    "if key == 'macOS':\n",
    "    print_environment_info()"
   ]
  },
  {
   "cell_type": "code",
   "execution_count": 5,
   "metadata": {},
   "outputs": [
    {
     "name": "stdout",
     "output_type": "stream",
     "text": [
      "📌 Current operating system: Windows 11\n",
      "📌 Python version: 3.12.4 | packaged by Anaconda, Inc. | (main, Jun 18 2024, 15:03:56) [MSC v.1929 64 bit (AMD64)]\n"
     ]
    }
   ],
   "source": [
    "# windows \n",
    "if key == 'Windows':\n",
    "    print_environment_info()"
   ]
  },
  {
   "cell_type": "code",
   "execution_count": null,
   "metadata": {},
   "outputs": [
    {
     "name": "stdout",
     "output_type": "stream",
     "text": [
      "📌 Current operating system: Linux 6.14.6-zen1-1-zen\n",
      "📌 Python version: 3.12.4 (main, May 20 2025, 15:56:44) [GCC 15.1.1 20250425]\n"
     ]
    }
   ],
   "source": [
    "# Liunx \n",
    "if key == 'Linux':\n",
    "    print_environment_info()"
   ]
  },
  {
   "cell_type": "markdown",
   "metadata": {},
   "source": [
    "### 3️⃣ Test Hashing Function\n",
    "> The following helper function generates SHA256 hash for a pickled object."
   ]
  },
  {
   "cell_type": "code",
   "execution_count": 7,
   "metadata": {},
   "outputs": [],
   "source": [
    "import pickle\n",
    "import hashlib\n",
    "\n",
    "def get_hash(obj):\n",
    "    \"\"\"Return the SHA256 hash value of the object after pickle serialization\"\"\"\n",
    "    return hashlib.sha256(pickle.dumps(obj)).hexdigest()"
   ]
  },
  {
   "cell_type": "code",
   "execution_count": 8,
   "metadata": {},
   "outputs": [],
   "source": [
    "def save_result(case_name, value_hash, file_path=\"statement_hashes.txt\"):\n",
    "    current_platform = get_platform_key()\n",
    "    formatted_block = f\"{case_name}\\n\"\n",
    "\n",
    "    if os.path.exists(file_path):\n",
    "        with open(file_path, \"r\", encoding=\"utf-8\") as f:\n",
    "            content = f.read()\n",
    "    else:\n",
    "        content = \"\"\n",
    "\n",
    "    blocks = content.strip().split(\"\\n\\n\") if content else []\n",
    "    updated = False\n",
    "\n",
    "    for i in range(len(blocks)):\n",
    "        if blocks[i].startswith(case_name):\n",
    "            lines = blocks[i].split(\"\\n\")\n",
    "            lines = [line for line in lines if not line.startswith(current_platform)]\n",
    "            lines.append(f\"{current_platform.ljust(10)}Result: {value_hash}\")\n",
    "            blocks[i] = \"\\n\".join(lines)\n",
    "            updated = True\n",
    "            break\n",
    "\n",
    "    if not updated:\n",
    "        formatted_block += f\"{current_platform.ljust(10)}Result: {value_hash}\\n\"\n",
    "        if current_platform != \"Windows\":\n",
    "            formatted_block += f\"{'Windows'.ljust(10)}Result: Pending\\n\"\n",
    "        if current_platform != \"Linux\":\n",
    "            formatted_block += f\"{'Linux'.ljust(10)}Result: Pending\\n\"\n",
    "        if current_platform != \"macOS\":\n",
    "            formatted_block += f\"{'macOS'.ljust(10)}Result: Pending\\n\"\n",
    "        blocks.append(formatted_block.strip())\n",
    "\n",
    "    with open(file_path, \"w\", encoding=\"utf-8\") as f:\n",
    "        f.write(\"\\n\\n\".join(blocks) + \"\\n\")\n"
   ]
  },
  {
   "cell_type": "code",
   "execution_count": 9,
   "metadata": {},
   "outputs": [],
   "source": [
    "import tempfile\n",
    "\n",
    "class MyClass:\n",
    "    def __init__(self):\n",
    "        self.x = 42\n",
    "\n",
    "def run_statement_tests():\n",
    "    save_result(\"TC_SC_01 Integer object\", get_hash(123))\n",
    "    save_result(\"TC_SC_02 List object\", get_hash([1, 2, 3]))\n",
    "    save_result(\"TC_SC_03 Nested dictionary\", get_hash({\"a\": {\"b\": {\"c\": 1}}}))\n",
    "    save_result(\"TC_SC_04 Custom class object\", get_hash(MyClass()))\n",
    "    \n",
    "    data1 = {\"hello\": [1, 2, 3]}\n",
    "    with tempfile.NamedTemporaryFile(delete=False) as f:\n",
    "        pickle.dump(data1, f)\n",
    "        filepath = f.name\n",
    "    with open(filepath, \"rb\") as f:\n",
    "        loaded1 = pickle.load(f)\n",
    "    save_result(\"TC_IO_01 File I/O consistency\", get_hash(loaded1))\n",
    "    os.remove(filepath)\n",
    "\n",
    "    data2 = {\"name\": \"Alice\", \"age\": 30}\n",
    "    b = pickle.dumps(data2)\n",
    "    restored = pickle.loads(b)\n",
    "    save_result(\"TC_IO_02 Bytes I/O consistency\", get_hash(restored))\n",
    "\n",
    "    try:\n",
    "        pickle.loads(b\"\")\n",
    "    except EOFError as e:\n",
    "        save_result(\"TC_IO_03 Empty byte stream error\", get_hash(str(e)))\n",
    "\n",
    "    try:\n",
    "        pickle.loads(b\"not a pickle\")\n",
    "    except pickle.UnpicklingError as e:\n",
    "        save_result(\"TC_IO_04 Invalid byte stream error\", get_hash(str(e)))\n"
   ]
  },
  {
   "cell_type": "code",
   "execution_count": 10,
   "metadata": {},
   "outputs": [],
   "source": [
    "run_statement_tests()"
   ]
  },
  {
   "cell_type": "code",
   "execution_count": 7,
   "metadata": {},
   "outputs": [],
   "source": [
    "def print_all_result_blocks(file_path=\"statement_hashes.txt\"):\n",
    "    if not os.path.exists(file_path):\n",
    "        print(\"❌ The result file does not exist.\")\n",
    "        return\n",
    "\n",
    "    with open(file_path, \"r\", encoding=\"utf-8\") as f:\n",
    "        content = f.read().strip()\n",
    "\n",
    "    if content:\n",
    "        print(\"✅ All recorded test results:\\n\")\n",
    "        print(content)\n",
    "    else:\n",
    "        print(\"⚠️ The result file is empty.\")\n"
   ]
  },
  {
   "cell_type": "markdown",
   "metadata": {},
   "source": [
    "### 4️⃣ Platform-specific Hash Results\n",
    "> Hash outputs for each test case executed on macOS, Windows, and Linux."
   ]
  },
  {
   "cell_type": "code",
   "execution_count": 8,
   "metadata": {},
   "outputs": [
    {
     "name": "stdout",
     "output_type": "stream",
     "text": [
      "✅ All recorded test results:\n",
      "\n",
      "TC_SC_01 Integer object\n",
      "Linux     Result: b78afd939a4aef912cfa7945f436bb5de305a4dc69cae7af84ddd948519f3a31\n",
      "macOS     Result: b78afd939a4aef912cfa7945f436bb5de305a4dc69cae7af84ddd948519f3a31\n",
      "Windows   Result: b78afd939a4aef912cfa7945f436bb5de305a4dc69cae7af84ddd948519f3a31\n",
      "\n",
      "TC_SC_02 List object\n",
      "Linux     Result: f9343d7d7ec5c3d8bcced056c438fc9f1d3819e9ca3d42418a40857050e10e20\n",
      "macOS     Result: f9343d7d7ec5c3d8bcced056c438fc9f1d3819e9ca3d42418a40857050e10e20\n",
      "Windows   Result: f9343d7d7ec5c3d8bcced056c438fc9f1d3819e9ca3d42418a40857050e10e20\n",
      "\n",
      "TC_SC_03 Nested dictionary\n",
      "Linux     Result: 46216ca97eebc983a09cf7458c32f2729fdb45b99151fb47939d51addc34c162\n",
      "macOS     Result: 46216ca97eebc983a09cf7458c32f2729fdb45b99151fb47939d51addc34c162\n",
      "Windows   Result: 46216ca97eebc983a09cf7458c32f2729fdb45b99151fb47939d51addc34c162\n",
      "\n",
      "TC_SC_04 Custom class object\n",
      "Linux     Result: dcfdf5f39f6649b2a26f445ee7f6e9c4bc0f087899683146f6a0a2561c9d3ee7\n",
      "macOS     Result: dcfdf5f39f6649b2a26f445ee7f6e9c4bc0f087899683146f6a0a2561c9d3ee7\n",
      "Windows   Result: dcfdf5f39f6649b2a26f445ee7f6e9c4bc0f087899683146f6a0a2561c9d3ee7\n",
      "\n",
      "TC_IO_01 File I/O consistency\n",
      "Linux     Result: eebed109eb579b15e13ec8e5363fa6443fbc257d588f726f850cf3533fc38e38\n",
      "macOS     Result: eebed109eb579b15e13ec8e5363fa6443fbc257d588f726f850cf3533fc38e38\n",
      "Windows   Result: eebed109eb579b15e13ec8e5363fa6443fbc257d588f726f850cf3533fc38e38\n",
      "\n",
      "TC_IO_02 Bytes I/O consistency\n",
      "Linux     Result: bc65c78627ed9f44a1f7d8e3823e274968aeff4a5e3f10117bbc449f84229ef9\n",
      "macOS     Result: bc65c78627ed9f44a1f7d8e3823e274968aeff4a5e3f10117bbc449f84229ef9\n",
      "Windows   Result: bc65c78627ed9f44a1f7d8e3823e274968aeff4a5e3f10117bbc449f84229ef9\n",
      "\n",
      "TC_IO_03 Empty byte stream error\n",
      "Linux     Result: 7b28057c88bd9c9b14f9f90be00f87b08c485b3e9cc2ba1cdd9ea7ffa44c401e\n",
      "macOS     Result: 7b28057c88bd9c9b14f9f90be00f87b08c485b3e9cc2ba1cdd9ea7ffa44c401e\n",
      "Windows   Result: 7b28057c88bd9c9b14f9f90be00f87b08c485b3e9cc2ba1cdd9ea7ffa44c401e\n",
      "\n",
      "TC_IO_04 Invalid byte stream error\n",
      "Linux     Result: 4c883567c97b94d54cf53e14597c7f8f92ae217b7d22c7f4ff77f5c0df8c238a\n",
      "macOS     Result: 4c883567c97b94d54cf53e14597c7f8f92ae217b7d22c7f4ff77f5c0df8c238a\n",
      "Windows   Result: 4c883567c97b94d54cf53e14597c7f8f92ae217b7d22c7f4ff77f5c0df8c238a\n"
     ]
    }
   ],
   "source": [
    "print_all_result_blocks(\"statement_hashes.txt\")"
   ]
  },
  {
   "cell_type": "markdown",
   "metadata": {},
   "source": [
    "### 5️⃣ Consistency Analysis and Divergence Detection\n",
    "\n",
    "All test cases were executed on macOS, Windows, and Linux under Python 3.12.4.  \n",
    "The serialized outputs from `pickle.dumps()` were hashed using SHA256 and compared across platforms.\n",
    "\n",
    "**Result:** All hashes matched across all platforms for every test case.\n",
    "\n",
    "#### ✅ Test cases with consistent hashes on all platforms:\n",
    "\n",
    "| Test Case ID     | Description                          |\n",
    "|------------------|--------------------------------------|\n",
    "| TC_SC_01         | Integer object                       |\n",
    "| TC_SC_02         | List object                          |\n",
    "| TC_SC_03         | Nested dictionary                    |\n",
    "| TC_SC_04         | Custom class object                  |\n",
    "| TC_IO_01         | File I/O consistency                 |\n",
    "| TC_IO_02         | Bytes I/O consistency                |\n",
    "| TC_IO_03         | Empty byte stream error              |\n",
    "| TC_IO_04         | Invalid byte stream error            |\n",
    "\n",
    "<br>\n",
    "\n",
    "> Even error-triggering cases like empty or invalid byte streams generated deterministic exception messages and thus consistent hashes across platforms.\n"
   ]
  },
  {
   "cell_type": "markdown",
   "metadata": {},
   "source": [
    "### 6️⃣ Conclusions and Findings\n",
    "\n",
    "The `pickle` module, when tested on macOS, Windows, and Linux (all using Python 3.12.4), exhibited **fully deterministic behavior** under statement-level white-box testing.\n",
    "\n",
    "#### 🔍 Key Findings:\n",
    "\n",
    "- ✅ All executed statements involving serialization, file I/O, byte stream I/O, and error handling produced identical results across platforms;\n",
    "- ✅ Exception messages for invalid inputs (e.g., empty or malformed bytes) were consistent and hash-identical;\n",
    "- ✅ The behavior of the `pickle` module appears stable under both normal and exceptional conditions when the same inputs are used.\n",
    "\n",
    "#### ⚠️ Limitations:\n",
    "\n",
    "- Only Python 3.12.4 was used; behavior on older versions (e.g., 3.7 or 3.6) was not assessed;\n",
    "- The test suite covered basic types and shallow structures; no deep recursion or protocol-specific behavior was examined;\n",
    "- Platform differences were limited to OS-level only (macOS, Linux, Windows); no CPU architecture variations (e.g., ARM vs x86) were tested.\n",
    "\n",
    "> Future testing should include more complex structures, randomized/fuzzed inputs, and varied `pickle` protocol versions to validate full determinism under broader conditions.\n"
   ]
  },
  {
   "cell_type": "markdown",
   "metadata": {},
   "source": [
    "### 📎 Appendix: Raw Data File\n",
    "\n",
    "The full record of all platform hashes can be found in:\n",
    "\n",
    "👉 [Download statement_hashes.txt](./statement_hashes.txt)"
   ]
  }
 ],
 "metadata": {
  "kernelspec": {
   "display_name": "bth312",
   "language": "python",
   "name": "python3"
  },
  "language_info": {
   "codemirror_mode": {
    "name": "ipython",
    "version": 3
   },
   "file_extension": ".py",
   "mimetype": "text/x-python",
   "name": "python",
   "nbconvert_exporter": "python",
   "pygments_lexer": "ipython3",
   "version": "undefined.undefined.undefined"
  }
 },
 "nbformat": 4,
 "nbformat_minor": 2
}
