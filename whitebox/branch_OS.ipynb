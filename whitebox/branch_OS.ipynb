{
 "cells": [
  {
   "cell_type": "markdown",
   "metadata": {},
   "source": [
    "## 🧪 White-box Testing: Branch Coverage and Cross-Platform Consistency"
   ]
  },
  {
   "cell_type": "markdown",
   "metadata": {},
   "source": [
    "### 1️⃣ Background and Objectives\n",
    "> This section aims to validate whether the `pickle` module produces consistent serialized outputs (via hash comparison) across different operating systems using branch-based white-box testing.\n"
   ]
  },
  {
   "cell_type": "markdown",
   "metadata": {},
   "source": [
    "### 2️⃣ Environment Information\n",
    "> Listing the platforms and Python versions used for testing."
   ]
  },
  {
   "cell_type": "code",
   "execution_count": 38,
   "metadata": {},
   "outputs": [],
   "source": [
    "import platform\n",
    "import sys\n",
    "\n",
    "def print_environment_info():\n",
    "    print(\"📌 Current operating system:\", platform.system(), platform.release())\n",
    "    print(\"📌 Python version:\", sys.version)"
   ]
  },
  {
   "cell_type": "code",
   "execution_count": 2,
   "metadata": {},
   "outputs": [],
   "source": [
    "import platform\n",
    "import os\n",
    "\n",
    "def get_platform_key():\n",
    "    \"\"\"Get the current platform identifier（macOS / Windows / Linux）\"\"\"\n",
    "    sysname = platform.system().lower()\n",
    "    if 'darwin' in sysname:\n",
    "        return 'macOS'\n",
    "    elif 'windows' in sysname:\n",
    "        return 'Windows'\n",
    "    elif 'linux' in sysname:\n",
    "        return 'Linux'\n",
    "    return 'Unknown'\n",
    "\n",
    "key = get_platform_key()\n"
   ]
  },
  {
   "cell_type": "code",
   "execution_count": null,
   "metadata": {},
   "outputs": [
    {
     "name": "stdout",
     "output_type": "stream",
     "text": [
      "📌 Current operating system: Darwin 24.1.0\n",
      "📌 Python version: 3.12.4 | packaged by Anaconda, Inc. | (main, Jun 18 2024, 10:07:17) [Clang 14.0.6 ]\n"
     ]
    }
   ],
   "source": [
    "# mac \n",
    "if key == 'macOS':\n",
    "    print_environment_info()"
   ]
  },
  {
   "cell_type": "code",
   "execution_count": 42,
   "metadata": {},
   "outputs": [
    {
     "name": "stdout",
     "output_type": "stream",
     "text": [
      "📌 Current operating system: Windows 11\n",
      "📌 Python version: 3.12.4 | packaged by Anaconda, Inc. | (main, Jun 18 2024, 15:03:56) [MSC v.1929 64 bit (AMD64)]\n"
     ]
    }
   ],
   "source": [
    "# windows \n",
    "if key == 'Windows':\n",
    "    print_environment_info()"
   ]
  },
  {
   "cell_type": "code",
   "execution_count": null,
   "metadata": {},
   "outputs": [
    {
     "name": "stdout",
     "output_type": "stream",
     "text": [
      "📌 Current operating system: Linux 6.14.6-zen1-1-zen\n",
      "📌 Python version: 3.12.4 (main, May 20 2025, 15:56:44) [GCC 15.1.1 20250425]\n"
     ]
    }
   ],
   "source": [
    "# Liunx \n",
    "if key == 'Linux':\n",
    "    print_environment_info()"
   ]
  },
  {
   "cell_type": "markdown",
   "metadata": {},
   "source": [
    "### 3️⃣ Test Cases and Input Structures\n",
    "> Each input structure is mapped to a specific branch logic (e.g., empty vs. non-empty lists)."
   ]
  },
  {
   "cell_type": "code",
   "execution_count": 44,
   "metadata": {},
   "outputs": [],
   "source": [
    "import pickle\n",
    "import hashlib\n",
    "\n",
    "def get_hash(obj):\n",
    "    \"\"\"Return the SHA256 hash value of the object after pickle serialization\"\"\"\n",
    "    return hashlib.sha256(pickle.dumps(obj)).hexdigest()"
   ]
  },
  {
   "cell_type": "code",
   "execution_count": 45,
   "metadata": {},
   "outputs": [],
   "source": [
    "def save_result(case_name, value_hash, file_path=\"branch_hashes.txt\"):\n",
    "    current_platform = get_platform_key()\n",
    "    formatted_block = f\"{case_name}\\n\"\n",
    "\n",
    "    if os.path.exists(file_path):\n",
    "        with open(file_path, \"r\", encoding=\"utf-8\") as f:\n",
    "            content = f.read()\n",
    "    else:\n",
    "        content = \"\"\n",
    "\n",
    "    blocks = content.strip().split(\"\\n\\n\") if content else []\n",
    "    updated = False\n",
    "\n",
    "    for i in range(len(blocks)):\n",
    "        if blocks[i].startswith(case_name):\n",
    "            lines = blocks[i].split(\"\\n\")\n",
    "            lines = [line for line in lines if not line.startswith(current_platform)]\n",
    "            lines.append(f\"{current_platform.ljust(10)}Result: {value_hash}\")\n",
    "            blocks[i] = \"\\n\".join(lines)\n",
    "            updated = True\n",
    "            break\n",
    "\n",
    "    if not updated:\n",
    "        formatted_block += f\"{current_platform.ljust(10)}Result: {value_hash}\\n\"\n",
    "        if current_platform != \"Windows\":\n",
    "            formatted_block += f\"{'Windows'.ljust(10)}Result: Pending\\n\"\n",
    "        if current_platform != \"Linux\":\n",
    "            formatted_block += f\"{'Linux'.ljust(10)}Result: Pending\\n\"\n",
    "        if current_platform != \"macOS\":\n",
    "            formatted_block += f\"{'macOS'.ljust(10)}Result: Pending\\n\"\n",
    "        blocks.append(formatted_block.strip())\n",
    "\n",
    "    with open(file_path, \"w\", encoding=\"utf-8\") as f:\n",
    "        f.write(\"\\n\\n\".join(blocks) + \"\\n\")\n"
   ]
  },
  {
   "cell_type": "code",
   "execution_count": 46,
   "metadata": {},
   "outputs": [],
   "source": [
    "def run_branch_coverage_tests():\n",
    "    save_result(\"TC_BC_01 Empty list\", get_hash([]))\n",
    "    save_result(\"TC_BC_02 Non-empty list\", get_hash([1]))\n",
    "    save_result(\"TC_BC_03 Empty dictionary\", get_hash({}))\n",
    "    save_result(\"TC_BC_04-A Dict order a→b\", get_hash({\"a\": 1, \"b\": 2}))\n",
    "    save_result(\"TC_BC_04-B Dict order b→a\", get_hash({\"b\": 2, \"a\": 1}))\n",
    "    save_result(\"TC_BC_05-A Nested dict x→y\", get_hash({\"outer\": {\"x\": 1, \"y\": 2}}))\n",
    "    save_result(\"TC_BC_05-B Nested dict y→x\", get_hash({\"outer\": {\"y\": 2, \"x\": 1}}))\n",
    "\n",
    "class MyClass:\n",
    "    def __reduce__(self):\n",
    "        return (MyClass, ())\n",
    "\n",
    "save_result(\"TC_BC_06 Custom class object\", get_hash(MyClass()))\n",
    "\n",
    "save_result(\"TC_BC_07 Float list\", get_hash([0.1, 0.2, 0.3]))"
   ]
  },
  {
   "cell_type": "code",
   "execution_count": 47,
   "metadata": {},
   "outputs": [],
   "source": [
    "run_branch_coverage_tests()"
   ]
  },
  {
   "cell_type": "code",
   "execution_count": 1,
   "metadata": {},
   "outputs": [],
   "source": [
    "def print_all_result_blocks(file_path=\"branch_hashes.txt\"):\n",
    "    if not os.path.exists(file_path):\n",
    "        print(\"❌ The result file does not exist.\")\n",
    "        return\n",
    "\n",
    "    with open(file_path, \"r\", encoding=\"utf-8\") as f:\n",
    "        content = f.read().strip()\n",
    "\n",
    "    if content:\n",
    "        print(\"✅ All recorded test results:\\n\")\n",
    "        print(content)\n",
    "    else:\n",
    "        print(\"⚠️ The result file is empty.\")"
   ]
  },
  {
   "cell_type": "markdown",
   "metadata": {},
   "source": [
    "### 4️⃣ Platform-specific Hash Results\n",
    "> Hash outputs for each test case executed on macOS, Windows, and Linux."
   ]
  },
  {
   "cell_type": "code",
   "execution_count": 3,
   "metadata": {},
   "outputs": [
    {
     "name": "stdout",
     "output_type": "stream",
     "text": [
      "✅ All recorded test results:\n",
      "\n",
      "TC_BC_06 Custom class object\n",
      "Linux     Result: fa18b43d8fea0d6b2fdd5b5939462d340af356328addad61d680f72003ed6e92\n",
      "macOS     Result: fa18b43d8fea0d6b2fdd5b5939462d340af356328addad61d680f72003ed6e92\n",
      "Windows   Result: fa18b43d8fea0d6b2fdd5b5939462d340af356328addad61d680f72003ed6e92\n",
      "\n",
      "TC_BC_07 Float list\n",
      "Linux     Result: a9af647ab7c3a6dccab3c10e82b0aa990c08880567f392ad82c19583718ba1bb\n",
      "macOS     Result: a9af647ab7c3a6dccab3c10e82b0aa990c08880567f392ad82c19583718ba1bb\n",
      "Windows   Result: a9af647ab7c3a6dccab3c10e82b0aa990c08880567f392ad82c19583718ba1bb\n",
      "\n",
      "TC_BC_01 Empty list\n",
      "Linux     Result: ec0a6ccf9debf1c16781445c4b9106080d00478b0559469336db7c7b7b9711c8\n",
      "macOS     Result: ec0a6ccf9debf1c16781445c4b9106080d00478b0559469336db7c7b7b9711c8\n",
      "Windows   Result: ec0a6ccf9debf1c16781445c4b9106080d00478b0559469336db7c7b7b9711c8\n",
      "\n",
      "TC_BC_02 Non-empty list\n",
      "Linux     Result: 4161bccd029bec6dfae5cc2e6620fc7864b70ff481c3a1117f9926854a9b1974\n",
      "macOS     Result: 4161bccd029bec6dfae5cc2e6620fc7864b70ff481c3a1117f9926854a9b1974\n",
      "Windows   Result: 4161bccd029bec6dfae5cc2e6620fc7864b70ff481c3a1117f9926854a9b1974\n",
      "\n",
      "TC_BC_03 Empty dictionary\n",
      "Linux     Result: 926248e52d1fa532c317e37da24ed652ae64110f8219cb5e061668bd3091f048\n",
      "macOS     Result: 926248e52d1fa532c317e37da24ed652ae64110f8219cb5e061668bd3091f048\n",
      "Windows   Result: 926248e52d1fa532c317e37da24ed652ae64110f8219cb5e061668bd3091f048\n",
      "\n",
      "TC_BC_04-A Dict order a→b\n",
      "Linux     Result: dfc78ac090a4eb6e9db8fc6475a84cd700c8cc0e389778312ad491d662e081e1\n",
      "macOS     Result: dfc78ac090a4eb6e9db8fc6475a84cd700c8cc0e389778312ad491d662e081e1\n",
      "Windows   Result: dfc78ac090a4eb6e9db8fc6475a84cd700c8cc0e389778312ad491d662e081e1\n",
      "\n",
      "TC_BC_04-B Dict order b→a\n",
      "Linux     Result: ae8622c40986e49d221286df26c06338a0d074dbe60d86b8f52cb52cf585cf1a\n",
      "macOS     Result: ae8622c40986e49d221286df26c06338a0d074dbe60d86b8f52cb52cf585cf1a\n",
      "Windows   Result: ae8622c40986e49d221286df26c06338a0d074dbe60d86b8f52cb52cf585cf1a\n",
      "\n",
      "TC_BC_05-A Nested dict x→y\n",
      "Linux     Result: 13f54259ea5515cdc1810875267694a61f7a2041e4dbac21a980d171dda8667d\n",
      "macOS     Result: 13f54259ea5515cdc1810875267694a61f7a2041e4dbac21a980d171dda8667d\n",
      "Windows   Result: 13f54259ea5515cdc1810875267694a61f7a2041e4dbac21a980d171dda8667d\n",
      "\n",
      "TC_BC_05-B Nested dict y→x\n",
      "Linux     Result: 6939a31034cb9c235a191bb89185a4d2c33ee69eb6f69a86c688fae134410e76\n",
      "macOS     Result: 6939a31034cb9c235a191bb89185a4d2c33ee69eb6f69a86c688fae134410e76\n",
      "Windows   Result: 6939a31034cb9c235a191bb89185a4d2c33ee69eb6f69a86c688fae134410e76\n"
     ]
    }
   ],
   "source": [
    "print_all_result_blocks(\"branch_hashes.txt\")"
   ]
  },
  {
   "cell_type": "markdown",
   "metadata": {},
   "source": [
    "### 5️⃣ Consistency Analysis and Divergence Detection\n",
    "\n",
    "All test cases were executed on macOS, Windows, and Linux under Python 3.12.4. The serialized outputs from `pickle.dumps()` were hashed using SHA256 and compared across platforms.\n",
    "\n",
    "**Result:** All hashes matched across all platforms for every test case.\n",
    "\n",
    "#### ✅ Test cases with consistent hashes on all platforms:\n",
    "\n",
    "| Test Case ID     | Description                            |\n",
    "|------------------|----------------------------------------|\n",
    "| TC_BC_01         | Empty list                             |\n",
    "| TC_BC_02         | Non-empty list                         |\n",
    "| TC_BC_03         | Empty dictionary                       |\n",
    "| TC_BC_04-A       | Dict with keys ordered a → b           |\n",
    "| TC_BC_04-B       | Dict with keys ordered b → a           |\n",
    "| TC_BC_05-A       | Nested dict with keys x → y            |\n",
    "| TC_BC_05-B       | Nested dict with keys y → x            |\n",
    "| TC_BC_06         | Custom class object with `__reduce__`  |\n",
    "| TC_BC_07         | Floating-point list                    |\n",
    "\n",
    "<br>\n",
    "\n",
    "> Even for inputs that were structurally different but semantically equivalent (e.g., reordered dict keys), the hash results remained consistent across platforms."
   ]
  },
  {
   "cell_type": "markdown",
   "metadata": {},
   "source": [
    "### 6️⃣ Conclusions and Findings\n",
    "\n",
    "The `pickle` module, when tested on macOS, Windows, and Linux (all using Python 3.12.4), showed **fully deterministic behavior** for all input types tested.\n",
    "\n",
    "#### 🔍 Key Findings:\n",
    "\n",
    "- ✅ No divergence was observed even with reordered keys in dicts;\n",
    "- ✅ Python 3.12 likely maintains insertion order or applies stable key handling in `pickle` serialization;\n",
    "- ✅ Custom objects and floating-point values exhibited identical hashes across platforms.\n",
    "\n",
    "#### ⚠️ Limitations:\n",
    "\n",
    "- Only Python 3.12.4 was tested; earlier versions such as 3.7.x or 3.6 may behave differently;\n",
    "- Input types were basic; deep recursion and complex objects were not included;\n",
    "- All platforms were assumed to be 64-bit; architecture variation (e.g., ARM vs x86) was not tested.\n",
    "\n",
    "> Future work should extend to older Python versions, fuzzed/randomized inputs, and testing against different pickle protocols for full consistency guarantees."
   ]
  },
  {
   "cell_type": "markdown",
   "metadata": {},
   "source": [
    "### 📎 Appendix: Raw Data File\n",
    "\n",
    "The complete platform hash records can be found in the following file:\n",
    "\n",
    "👉 [Download branch_hashes.txt](./branch_hashes.txt)"
   ]
  }
 ],
 "metadata": {
  "kernelspec": {
   "display_name": "bth312",
   "language": "python",
   "name": "python3"
  },
  "language_info": {
   "codemirror_mode": {
    "name": "ipython",
    "version": 3
   },
   "file_extension": ".py",
   "mimetype": "text/x-python",
   "name": "python",
   "nbconvert_exporter": "python",
   "pygments_lexer": "ipython3",
   "version": "3.12.4"
  }
 },
 "nbformat": 4,
 "nbformat_minor": 2
}
