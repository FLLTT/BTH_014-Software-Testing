{
 "cells": [
  {
   "cell_type": "markdown",
   "metadata": {},
   "source": [
    "## 🧪 White-box Testing: Data Flow Coverage under Different Python Versions"
   ]
  },
  {
   "cell_type": "markdown",
   "metadata": {},
   "source": [
    "### 1️⃣ Background and Objectives\n",
    "> This notebook evaluates whether `pickle` maintains deterministic behavior in data flow scenarios across different **Python versions** (3.12.4 vs. 3.7.12) on the same system.  We focus on internal data definitions and uses (e.g., `dispatch`, `memo`, function lookups)."
   ]
  },
  {
   "cell_type": "markdown",
   "metadata": {},
   "source": [
    "### 2️⃣ Environment Information\n",
    "> We record the operating system and Python version in use."
   ]
  },
  {
   "cell_type": "code",
   "execution_count": 1,
   "metadata": {},
   "outputs": [],
   "source": [
    "import platform\n",
    "import sys\n",
    "\n",
    "def print_environment_info():\n",
    "    print(\"📌 Current operating system:\", platform.system(), platform.release())\n",
    "    print(\"📌 Python version:\", sys.version)"
   ]
  },
  {
   "cell_type": "code",
   "execution_count": 2,
   "metadata": {},
   "outputs": [
    {
     "name": "stdout",
     "output_type": "stream",
     "text": [
      "📌 Current operating system: Windows 10\n",
      "📌 Python version: 3.7.12 | packaged by conda-forge | (default, Oct 26 2021, 05:35:01) [MSC v.1916 64 bit (AMD64)]\n"
     ]
    }
   ],
   "source": [
    "print_environment_info()"
   ]
  },
  {
   "cell_type": "code",
   "execution_count": 3,
   "metadata": {},
   "outputs": [
    {
     "name": "stdout",
     "output_type": "stream",
     "text": [
      "📌 Current operating system: Windows 11\n",
      "📌 Python version: 3.12.4 | packaged by Anaconda, Inc. | (main, Jun 18 2024, 15:03:56) [MSC v.1929 64 bit (AMD64)]\n"
     ]
    }
   ],
   "source": [
    "print_environment_info()"
   ]
  },
  {
   "cell_type": "markdown",
   "metadata": {},
   "source": [
    "### 3️⃣ Test Cases and Input Structures\n",
    "> Each input structure is mapped to a specific branch logic (e.g., empty vs. non-empty lists)."
   ]
  },
  {
   "cell_type": "code",
   "execution_count": 4,
   "metadata": {},
   "outputs": [],
   "source": [
    "import pickle\n",
    "import hashlib\n",
    "\n",
    "def get_hash(obj):\n",
    "    \"\"\"Return the SHA256 hash value of the object after pickle serialization\"\"\"\n",
    "    return hashlib.sha256(pickle.dumps(obj)).hexdigest()"
   ]
  },
  {
   "cell_type": "code",
   "execution_count": 5,
   "metadata": {},
   "outputs": [],
   "source": [
    "import os\n",
    "\n",
    "def save_result_by_python_version(case_name, value_hash, file_path=\"dataflow_python_hashes.txt\"):\n",
    "    py_version = \".\".join(sys.version.split(\" \")[0].split(\".\")[:2])\n",
    "    block = f\"{case_name}\\n{py_version.ljust(10)}Result: {value_hash}\\n\"\n",
    "\n",
    "    if os.path.exists(file_path):\n",
    "        with open(file_path, \"r\", encoding=\"utf-8\") as f:\n",
    "            content = f.read()\n",
    "    else:\n",
    "        content = \"\"\n",
    "\n",
    "    blocks = content.strip().split(\"\\n\\n\") if content else []\n",
    "    updated = False\n",
    "\n",
    "    for i in range(len(blocks)):\n",
    "        if blocks[i].startswith(case_name):\n",
    "            lines = blocks[i].split(\"\\n\")\n",
    "            lines = [line for line in lines if not line.startswith(py_version)]\n",
    "            lines.append(f\"{py_version.ljust(10)}Result: {value_hash}\")\n",
    "            blocks[i] = \"\\n\".join(lines)\n",
    "            updated = True\n",
    "            break\n",
    "\n",
    "    if not updated:\n",
    "        blocks.append(block.strip())\n",
    "\n",
    "    with open(file_path, \"w\", encoding=\"utf-8\") as f:\n",
    "        f.write(\"\\n\\n\".join(blocks) + \"\\n\")"
   ]
  },
  {
   "cell_type": "code",
   "execution_count": 6,
   "metadata": {},
   "outputs": [],
   "source": [
    "def run_dataflow_tests_by_version():\n",
    "    save_result_by_python_version(\"TC_DF_01 dispatch[int] used\", get_hash(123))\n",
    "\n",
    "    a = [1, 2]\n",
    "    obj_memo_used = [a, a]\n",
    "    save_result_by_python_version(\"TC_DF_02 memo reused\", get_hash(obj_memo_used))\n",
    "\n",
    "    obj_memo_not_used = [[1, 2], [3, 4]]\n",
    "    save_result_by_python_version(\"TC_DF_03 memo not reused\", get_hash(obj_memo_not_used))\n",
    "\n",
    "    save_result_by_python_version(\"TC_DF_04 dispatch function call\", get_hash({\"a\": 1}))\n"
   ]
  },
  {
   "cell_type": "code",
   "execution_count": 7,
   "metadata": {},
   "outputs": [],
   "source": [
    "run_dataflow_tests_by_version()"
   ]
  },
  {
   "cell_type": "code",
   "execution_count": 8,
   "metadata": {},
   "outputs": [],
   "source": [
    "def print_version_results(file_path=\"dataflow_python_hashes.txt\"):\n",
    "    if not os.path.exists(file_path):\n",
    "        print(\"❌ No result file found.\")\n",
    "        return\n",
    "    with open(file_path, \"r\", encoding=\"utf-8\") as f:\n",
    "        print(\"✅ Recorded results:\\n\")\n",
    "        print(f.read())"
   ]
  },
  {
   "cell_type": "markdown",
   "metadata": {},
   "source": [
    "### 4️⃣ Platform-specific Hash Results\n",
    "> Hash outputs for each test case executed on macOS, Windows, and Linux."
   ]
  },
  {
   "cell_type": "code",
   "execution_count": 9,
   "metadata": {},
   "outputs": [
    {
     "name": "stdout",
     "output_type": "stream",
     "text": [
      "✅ Recorded results:\n",
      "\n",
      "TC_DF_01 dispatch[int] used\n",
      "3.7       Result: ca9493975e3875030e2d5a5c2265f13827a049d4473f62a448d71c05cd0e41ce\n",
      "3.12      Result: b78afd939a4aef912cfa7945f436bb5de305a4dc69cae7af84ddd948519f3a31\n",
      "\n",
      "TC_DF_02 memo reused\n",
      "3.7       Result: 3bae964ad9614c65791f0d9418f31a10d5f8f562095ddeff4250a538cb8bf848\n",
      "3.12      Result: fd6f1c67c6a01a87b514543fcc927e76d2d0cea7fdedcd6fb96e63d781f99a2f\n",
      "\n",
      "TC_DF_03 memo not reused\n",
      "3.7       Result: 3b041a7e32dcde82e4c5436d46030883002f558fcd7910bde65a2846458b5e3a\n",
      "3.12      Result: b24b57aa92344c16c3b542410745c70f62724188e914967ba94565ffb3821eee\n",
      "\n",
      "TC_DF_04 dispatch function call\n",
      "3.7       Result: b393a0717c5c0feabe9f330343c4443d6596fd8fcd17d2e70683e19d72e97cd5\n",
      "3.12      Result: 02985f17a95b8ad0ca0b37d9659510b998086e750bf325b5b11465734d053bec\n",
      "\n"
     ]
    }
   ],
   "source": [
    "print_version_results(\"dataflow_python_hashes.txt\")"
   ]
  },
  {
   "cell_type": "markdown",
   "metadata": {},
   "source": [
    "### 5️⃣ Consistency Analysis and Divergence Detection\n",
    "\n",
    "All data flow test cases were executed on the same system using **Python 3.7.12** and **Python 3.12.4**.  \n",
    "The serialized outputs from `pickle.dumps()` were hashed with SHA256 to detect binary-level consistency across versions.\n",
    "\n",
    "**Result:** Every test case produced **different hashes** between Python versions.\n",
    "\n",
    "#### ⚠️ Test cases with inconsistent hashes:\n",
    "\n",
    "| Test Case ID     | Description                          |\n",
    "|------------------|--------------------------------------|\n",
    "| TC_DF_01         | dispatch[int] used (int type)        |\n",
    "| TC_DF_02         | memo reused (repeated list reference)|\n",
    "| TC_DF_03         | memo not reused (distinct lists)     |\n",
    "| TC_DF_04         | dispatch function call               |\n",
    "\n",
    "<br>\n",
    "\n",
    "> These differences suggest that Python's internal dispatch maps and memoization encoding strategies vary between versions, even if functional behavior remains the same. Byte-level consistency is not guaranteed across versions.\n"
   ]
  },
  {
   "cell_type": "markdown",
   "metadata": {},
   "source": [
    "### 6️⃣ Conclusions and Findings\n",
    "\n",
    "The `pickle` module does not yield hash-identical outputs across different Python versions—even when internal def-use paths (e.g., memoization, dispatch dictionaries) follow the same logic.\n",
    "\n",
    "#### 🔍 Key Findings:\n",
    "\n",
    "- ❌ All def-use related test cases showed binary-level divergence;\n",
    "- 🔁 memo structures and reference tracking differ in serialized form;\n",
    "- ⚙️ dispatch lookups executed as expected, but underlying layout changed.\n",
    "\n",
    "#### ⚠️ Limitations:\n",
    "\n",
    "- Manual def-use scenarios; no automated data flow tracing;\n",
    "- Only tested the default pickle protocol;\n",
    "- Did not include deeply nested or cyclic object graphs.\n",
    "\n",
    "> Developers requiring consistent serialized outputs must avoid using `pickle` across Python versions. A standardized format like JSON or Protobuf is preferred for long-term stability.\n"
   ]
  },
  {
   "cell_type": "markdown",
   "metadata": {},
   "source": [
    "### 📎 Appendix: Raw Data File\n",
    "\n",
    "The complete platform hash records can be found in the following file:\n",
    "\n",
    "👉 [Download dataflow_python_hashes.txt](./dataflow_python_hashes.txt)"
   ]
  }
 ],
 "metadata": {
  "kernelspec": {
   "display_name": "bth312",
   "language": "python",
   "name": "python3"
  },
  "language_info": {
   "codemirror_mode": {
    "name": "ipython",
    "version": 3
   },
   "file_extension": ".py",
   "mimetype": "text/x-python",
   "name": "python",
   "nbconvert_exporter": "python",
   "pygments_lexer": "ipython3",
   "version": "3.7.12"
  }
 },
 "nbformat": 4,
 "nbformat_minor": 2
}
