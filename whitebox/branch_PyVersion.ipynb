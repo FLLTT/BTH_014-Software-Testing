{
 "cells": [
  {
   "cell_type": "markdown",
   "metadata": {},
   "source": [
    "## 🧪 White-box Testing: Branch Coverage under Different Python Versions"
   ]
  },
  {
   "cell_type": "markdown",
   "metadata": {},
   "source": [
    "### 1️⃣ Background and Objectives\n",
    "> This test verifies whether the `pickle` module produces identical serialized outputs under different Python versions (3.7.12 vs. 3.12.4) on the same OS, using white-box branch coverage techniques.\n"
   ]
  },
  {
   "cell_type": "markdown",
   "metadata": {},
   "source": [
    "### 2️⃣ Environment Information\n",
    "> We record the operating system and Python version in use."
   ]
  },
  {
   "cell_type": "code",
   "execution_count": 1,
   "metadata": {},
   "outputs": [],
   "source": [
    "import platform\n",
    "import sys\n",
    "\n",
    "def print_environment_info():\n",
    "    print(\"📌 Current operating system:\", platform.system(), platform.release())\n",
    "    print(\"📌 Python version:\", sys.version)"
   ]
  },
  {
   "cell_type": "code",
   "execution_count": 2,
   "metadata": {},
   "outputs": [
    {
     "name": "stdout",
     "output_type": "stream",
     "text": [
      "📌 Current operating system: Windows 10\n",
      "📌 Python version: 3.7.12 | packaged by conda-forge | (default, Oct 26 2021, 05:35:01) [MSC v.1916 64 bit (AMD64)]\n"
     ]
    }
   ],
   "source": [
    "print_environment_info()"
   ]
  },
  {
   "cell_type": "code",
   "execution_count": 2,
   "metadata": {},
   "outputs": [
    {
     "name": "stdout",
     "output_type": "stream",
     "text": [
      "📌 Current operating system: Windows 11\n",
      "📌 Python version: 3.12.4 | packaged by Anaconda, Inc. | (main, Jun 18 2024, 15:03:56) [MSC v.1929 64 bit (AMD64)]\n"
     ]
    }
   ],
   "source": [
    "print_environment_info()"
   ]
  },
  {
   "cell_type": "markdown",
   "metadata": {},
   "source": [
    "### 3️⃣ Test Cases and Input Structures\n",
    "> Each input structure is mapped to a specific branch logic (e.g., empty vs. non-empty lists)."
   ]
  },
  {
   "cell_type": "code",
   "execution_count": 3,
   "metadata": {},
   "outputs": [],
   "source": [
    "import pickle\n",
    "import hashlib\n",
    "\n",
    "def get_hash(obj):\n",
    "    \"\"\"Return the SHA256 hash value of the object after pickle serialization\"\"\"\n",
    "    return hashlib.sha256(pickle.dumps(obj)).hexdigest()"
   ]
  },
  {
   "cell_type": "code",
   "execution_count": 4,
   "metadata": {},
   "outputs": [],
   "source": [
    "import os\n",
    "\n",
    "def save_result_by_python_version(case_name, value_hash, file_path=\"branch_python_hashes.txt\"):\n",
    "    py_version = \".\".join(sys.version.split(\" \")[0].split(\".\")[:2])\n",
    "    block = f\"{case_name}\\n{py_version.ljust(10)}Result: {value_hash}\\n\"\n",
    "\n",
    "    if os.path.exists(file_path):\n",
    "        with open(file_path, \"r\", encoding=\"utf-8\") as f:\n",
    "            content = f.read()\n",
    "    else:\n",
    "        content = \"\"\n",
    "\n",
    "    blocks = content.strip().split(\"\\n\\n\") if content else []\n",
    "    updated = False\n",
    "\n",
    "    for i in range(len(blocks)):\n",
    "        if blocks[i].startswith(case_name):\n",
    "            lines = blocks[i].split(\"\\n\")\n",
    "            lines = [line for line in lines if not line.startswith(py_version)]\n",
    "            lines.append(f\"{py_version.ljust(10)}Result: {value_hash}\")\n",
    "            blocks[i] = \"\\n\".join(lines)\n",
    "            updated = True\n",
    "            break\n",
    "\n",
    "    if not updated:\n",
    "        blocks.append(block.strip())\n",
    "\n",
    "    with open(file_path, \"w\", encoding=\"utf-8\") as f:\n",
    "        f.write(\"\\n\\n\".join(blocks) + \"\\n\")\n"
   ]
  },
  {
   "cell_type": "code",
   "execution_count": 5,
   "metadata": {},
   "outputs": [],
   "source": [
    "def run_branch_tests_by_version():\n",
    "    save_result_by_python_version(\"TC_BC_01 Empty list\", get_hash([]))\n",
    "    save_result_by_python_version(\"TC_BC_02 Non-empty list\", get_hash([1]))\n",
    "    save_result_by_python_version(\"TC_BC_03 Empty dict\", get_hash({}))\n",
    "    save_result_by_python_version(\"TC_BC_04-A Dict a→b\", get_hash({\"a\": 1, \"b\": 2}))\n",
    "    save_result_by_python_version(\"TC_BC_04-B Dict b→a\", get_hash({\"b\": 2, \"a\": 1}))\n",
    "    save_result_by_python_version(\"TC_BC_05-A Nested x→y\", get_hash({\"outer\": {\"x\": 1, \"y\": 2}}))\n",
    "    save_result_by_python_version(\"TC_BC_05-B Nested y→x\", get_hash({\"outer\": {\"y\": 2, \"x\": 1}}))\n",
    "    \n",
    "class MyClass:\n",
    "    def __reduce__(self):\n",
    "        return (MyClass, ())\n",
    "        \n",
    "save_result_by_python_version(\"TC_BC_06 Custom class\", get_hash(MyClass()))\n",
    "save_result_by_python_version(\"TC_BC_07 Float list\", get_hash([0.1, 0.2, 0.3]))"
   ]
  },
  {
   "cell_type": "code",
   "execution_count": 6,
   "metadata": {},
   "outputs": [],
   "source": [
    "run_branch_tests_by_version()"
   ]
  },
  {
   "cell_type": "code",
   "execution_count": 7,
   "metadata": {},
   "outputs": [],
   "source": [
    "def print_version_results(file_path=\"branch_python_hashes.txt\"):\n",
    "    if not os.path.exists(file_path):\n",
    "        print(\"❌ No result file found.\")\n",
    "        return\n",
    "    with open(file_path, \"r\", encoding=\"utf-8\") as f:\n",
    "        print(\"✅ Recorded results:\\n\")\n",
    "        print(f.read())"
   ]
  },
  {
   "cell_type": "markdown",
   "metadata": {},
   "source": [
    "### 4️⃣ Platform-specific Hash Results\n",
    "> Hash outputs for each test case executed on macOS, Windows, and Linux."
   ]
  },
  {
   "cell_type": "code",
   "execution_count": 8,
   "metadata": {},
   "outputs": [
    {
     "name": "stdout",
     "output_type": "stream",
     "text": [
      "✅ Recorded results:\n",
      "\n",
      "TC_BC_01 Empty list\n",
      "3.12      Result: ec0a6ccf9debf1c16781445c4b9106080d00478b0559469336db7c7b7b9711c8\n",
      "3.7       Result: 08e14d71fb56a8d6888e9b1f0c21d1a98050e7cdf034fdfcd06d0db59f810477\n",
      "\n",
      "TC_BC_02 Non-empty list\n",
      "3.12      Result: 4161bccd029bec6dfae5cc2e6620fc7864b70ff481c3a1117f9926854a9b1974\n",
      "3.7       Result: d28c71251ff6125a6b6d3d2f5a6881d5f73986307ea6439dbced77c5a471b604\n",
      "\n",
      "TC_BC_03 Empty dict\n",
      "3.12      Result: 926248e52d1fa532c317e37da24ed652ae64110f8219cb5e061668bd3091f048\n",
      "3.7       Result: 8ec16a78d9c9d3646c559df239aea3f15333605ddc702eeacebf6dd3ebeff684\n",
      "\n",
      "TC_BC_04-A Dict a→b\n",
      "3.12      Result: dfc78ac090a4eb6e9db8fc6475a84cd700c8cc0e389778312ad491d662e081e1\n",
      "3.7       Result: 5ee253f93ea5b78548bb8e7e8d8eaee3ee365076c2e1cceca0a4878f52a4b1a6\n",
      "\n",
      "TC_BC_04-B Dict b→a\n",
      "3.12      Result: ae8622c40986e49d221286df26c06338a0d074dbe60d86b8f52cb52cf585cf1a\n",
      "3.7       Result: 0439f5da70849ad2417e47acd7bac2e0e877049bc7c5348857c13cf1462cf3d3\n",
      "\n",
      "TC_BC_05-A Nested x→y\n",
      "3.12      Result: 13f54259ea5515cdc1810875267694a61f7a2041e4dbac21a980d171dda8667d\n",
      "3.7       Result: 2b773f96299390e1c7dfc67b4db2836861108d80978b84516af33e34055b8f21\n",
      "\n",
      "TC_BC_05-B Nested y→x\n",
      "3.12      Result: 6939a31034cb9c235a191bb89185a4d2c33ee69eb6f69a86c688fae134410e76\n",
      "3.7       Result: 9d8693e248fee18038beef3866e11749a019a4adcc762d1a7ec6388c57599b45\n",
      "\n",
      "TC_BC_06 Custom class\n",
      "3.12      Result: fa18b43d8fea0d6b2fdd5b5939462d340af356328addad61d680f72003ed6e92\n",
      "3.7       Result: 2718c486f6cf666800e17e5f43abca8ae759d3bbff6125246041e39ba408374d\n",
      "\n",
      "TC_BC_07 Float list\n",
      "3.12      Result: a9af647ab7c3a6dccab3c10e82b0aa990c08880567f392ad82c19583718ba1bb\n",
      "3.7       Result: 1d39e68e04cb0c44253ab15761af72c42c4206db6cd5f7ae0049c6dda579b996\n",
      "\n"
     ]
    }
   ],
   "source": [
    "print_version_results(\"branch_python_hashes.txt\")"
   ]
  },
  {
   "cell_type": "markdown",
   "metadata": {},
   "source": [
    "### 5️⃣ Consistency Analysis and Divergence Detection\n",
    "\n",
    "All test cases were executed on the **same operating system** using two different Python versions: **3.12.4** and **3.7.12**. The outputs of `pickle.dumps()` were hashed using SHA256 and compared between the two versions.\n",
    "\n",
    "**Result:** For all test cases, the resulting hashes **differed** between Python versions.\n",
    "\n",
    "#### ⚠️ Test cases with inconsistent hashes between Python 3.12 and Python 3.7:\n",
    "\n",
    "| Test Case ID     | Description                            |\n",
    "|------------------|----------------------------------------|\n",
    "| TC_BC_01         | Empty list                             |\n",
    "| TC_BC_02         | Non-empty list                         |\n",
    "| TC_BC_03         | Empty dictionary                       |\n",
    "| TC_BC_04-A       | Dict with keys ordered a → b           |\n",
    "| TC_BC_04-B       | Dict with keys ordered b → a           |\n",
    "| TC_BC_05-A       | Nested dict with keys x → y            |\n",
    "| TC_BC_05-B       | Nested dict with keys y → x            |\n",
    "| TC_BC_06         | Custom class object with `__reduce__`  |\n",
    "| TC_BC_07         | Floating-point list                    |\n",
    "\n",
    "<br>\n",
    "\n",
    "> Even though the inputs were exactly the same and semantically equivalent, all test cases produced different hash values across Python versions. This confirms that the internal representation and serialization logic of `pickle` has changed between Python 3.7 and 3.12.\n"
   ]
  },
  {
   "cell_type": "markdown",
   "metadata": {},
   "source": [
    "### 6️⃣ Conclusions and Findings\n",
    "\n",
    "When tested on the **same operating system**, the `pickle` module produced **non-deterministic outputs** across Python 3.12.4 and Python 3.7.12. Despite using identical inputs, all test cases resulted in different SHA256 hashes between the two versions.\n",
    "\n",
    "#### 🔍 Key Findings:\n",
    "\n",
    "- ❌ All test cases produced different hash results between Python 3.12 and Python 3.7;\n",
    "- ⚙️ The differences are likely due to internal implementation changes in object serialization across versions;\n",
    "- ❗ Even simple and semantically identical data structures (e.g., `[]`, `{}`, custom classes) yielded diverging outputs.\n",
    "\n",
    "#### ⚠️ Limitations:\n",
    "\n",
    "- Only two versions of Python were tested: 3.12.4 and 3.7.12;\n",
    "- The pickle protocol version was not explicitly varied (defaults used);\n",
    "- The test suite did not cover advanced or nested object models (e.g., circular references, shared references);\n",
    "- Only one operating system was used; cross-system + cross-version interaction was not assessed.\n",
    "\n",
    "> Future work should include broader Python version coverage, control over pickle protocol levels, and fuzzed inputs to investigate compatibility boundaries and serialization determinism in more depth.\n"
   ]
  },
  {
   "cell_type": "markdown",
   "metadata": {},
   "source": [
    "### 📎 Appendix: Raw Data File\n",
    "\n",
    "The complete platform hash records can be found in the following file:\n",
    "\n",
    "👉 [Download branch_python_hashes.txt](./branch_python_hashes.txt)"
   ]
  }
 ],
 "metadata": {
  "kernelspec": {
   "display_name": "bth312",
   "language": "python",
   "name": "python3"
  },
  "language_info": {
   "codemirror_mode": {
    "name": "ipython",
    "version": 3
   },
   "file_extension": ".py",
   "mimetype": "text/x-python",
   "name": "python",
   "nbconvert_exporter": "python",
   "pygments_lexer": "ipython3",
   "version": "3.12.4"
  }
 },
 "nbformat": 4,
 "nbformat_minor": 2
}
