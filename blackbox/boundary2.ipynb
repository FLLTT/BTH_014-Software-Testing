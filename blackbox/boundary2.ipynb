{
 "cells": [
  {
   "cell_type": "markdown",
   "metadata": {},
   "source": [
    "## 🧪 Black-box Testing: Boundary testing;"
   ]
  },
  {
   "cell_type": "markdown",
   "metadata": {},
   "source": [
    "### 1️⃣ Background and Objectives\n",
    "> This section aims to verify that `pickle` module produces consistent serialized output (by comparison with Hasche) across os using black-box testing based on bounding tests."
   ]
  },
  {
   "cell_type": "markdown",
   "metadata": {},
   "source": [
    "### 2️⃣ Environment Information\n",
    "> Listing the platforms and Python versions used for testing."
   ]
  },
  {
   "cell_type": "code",
   "execution_count": 1,
   "metadata": {},
   "outputs": [],
   "source": [
    "import platform\n",
    "import sys\n",
    "import pickle\n",
    "import hashlib\n",
    "import os\n",
    "from collections import deque\n",
    "\n",
    "def describe_environment():\n",
    "    print(\"操作系统:\", platform.system(), platform.release())\n",
    "    print(\"Python 版本:\", sys.version)"
   ]
  },
  {
   "cell_type": "markdown",
   "metadata": {},
   "source": [
    "### 3️⃣ Test Cases and Input Structures"
   ]
  },
  {
   "cell_type": "code",
   "execution_count": 37,
   "metadata": {
    "scrolled": true
   },
   "outputs": [],
   "source": [
    "def calculate_pickle_hash(data):\n",
    "    \"\"\"计算pickle数据的哈希值\"\"\"\n",
    "    try:\n",
    "        pickled_data = pickle.dumps(data)\n",
    "        return hashlib.sha256(pickled_data).hexdigest()\n",
    "    except Exception as e:\n",
    "        return f\"FAILED: {str(e)}\"\n",
    "\n",
    "class SelfReferential:\n",
    "    def __init__(self):\n",
    "        self.ref = self\n",
    "\n",
    "class CustomReduceClass:\n",
    "    def __reduce__(self):\n",
    "        return (self.__class__, ())\n",
    "\n",
    "def self_referential_list():\n",
    "    a = []\n",
    "    a.append(a)\n",
    "    return a\n",
    "\n",
    "def create_deep_nesting(depth=5):\n",
    "    data = []\n",
    "    for _ in range(depth):\n",
    "        data = [data]\n",
    "    return data\n",
    "\n",
    "def run_pickle_os_tests(output_file=\"pickle_os_tests.txt\"):\n",
    "    \"\"\"运行跨操作系统 pickle 边界测试并记录结果\"\"\"\n",
    "    test_cases = {\n",
    "        \"TC_OS_01\": {\n",
    "            \"TC_OS_01-A\": (\"Max 64-bit int\", 2**63 - 1),\n",
    "            \"TC_OS_01-B\": (\"Infinity\", float('inf')),\n",
    "            \"TC_OS_01-C\": (\"NaN\", float('nan')),\n",
    "        },\n",
    "        \"TC_OS_02\": {\n",
    "            \"TC_OS_02-A\": (\"Self-referential list\", self_referential_list()),\n",
    "            \"TC_OS_02-B\": (\"Deque with maxlen\", deque([1, 2, 3], maxlen=2)),\n",
    "        },\n",
    "        \"TC_OS_03\": {\n",
    "            \"TC_OS_03-A\": (\"Self-referential class\", SelfReferential()),\n",
    "            \"TC_OS_03-B\": (\"Lambda function\", lambda x: x + 1),\n",
    "            \"TC_OS_03-C\": (\"Class with __reduce__\", CustomReduceClass())\n",
    "        }\n",
    "    }\n",
    "\n",
    "    # 获取当前环境信息\n",
    "    current_os = platform.system()  # e.g., 'Windows', 'Darwin', 'Linux'\n",
    "    if current_os == \"Darwin\":\n",
    "        current_os = \"macOS\"  # 更直观显示\n",
    "    python_version = f\"{sys.version_info.major}.{sys.version_info.minor}.{sys.version_info.micro}\"\n",
    "    \n",
    "    # 目标平台\n",
    "    target_os = [\"Windows\", \"macOS\", \"Linux\"]\n",
    "\n",
    "    # 读取已有测试结果\n",
    "    existing_results = {}\n",
    "    if os.path.exists(output_file):\n",
    "        with open(output_file, \"r\", encoding=\"utf-8\") as f:\n",
    "            current_test = None\n",
    "            for line in f:\n",
    "                line = line.strip()\n",
    "                if not line:\n",
    "                    continue\n",
    "                if line.startswith(\"TC_OS_\"):\n",
    "                    parts = line.split(maxsplit=1)\n",
    "                    current_test = parts[0]\n",
    "                    existing_results[current_test] = {\n",
    "                        \"description\": parts[1] if len(parts) > 1 else \"\",\n",
    "                        \"results\": {os_name: \"\" for os_name in target_os}\n",
    "                    }\n",
    "                elif line.startswith(\"OS: \") and current_test:\n",
    "                    if \" result: \" in line:\n",
    "                        os_part, result = line.split(\" result: \", 1)\n",
    "                        os_name = os_part[len(\"OS: \"):]\n",
    "                        if os_name in target_os:\n",
    "                            existing_results[current_test][\"results\"][os_name] = result\n",
    "\n",
    "    # 更新当前操作系统下的结果\n",
    "    for category in test_cases.values():\n",
    "        for test_id, (desc, data) in category.items():\n",
    "            if test_id not in existing_results:\n",
    "                existing_results[test_id] = {\n",
    "                    \"description\": desc,\n",
    "                    \"results\": {os_name: \"\" for os_name in target_os}\n",
    "                }\n",
    "            existing_results[test_id][\"results\"][current_os] = calculate_pickle_hash(data)\n",
    "\n",
    "    # 写回更新结果\n",
    "    with open(output_file, \"w\", encoding=\"utf-8\") as f:\n",
    "        for test_id, data in sorted(existing_results.items()):\n",
    "            f.write(f\"{test_id} {data['description']}\\n\")\n",
    "            for os_name in target_os:\n",
    "                result = data[\"results\"].get(os_name, \"\")\n",
    "                f.write(f\"OS: {os_name} result: {result}\\n\")\n",
    "            f.write(\"\\n\")\n",
    "\n",
    "run_pickle_os_tests()\n",
    "\n",
    "\n",
    "def print_os_test_results(input_file=\"pickle_os_tests.txt\"):\n",
    "    with open(input_file, \"r\", encoding=\"utf-8\") as f:\n",
    "        current_test = None\n",
    "        test_description = \"\"\n",
    "        windows_result = \"\"\n",
    "        macos_result = \"\"\n",
    "        linux_result = \"\"\n",
    "        for line in f:\n",
    "            line = line.strip()\n",
    "            if not line:\n",
    "                continue\n",
    "\n",
    "            if line.startswith(\"TC_OS_\"):\n",
    "                if current_test:\n",
    "                    print(f\"✅ search result: {current_test}\")\n",
    "                    print(f\"{current_test}   {test_description}\")\n",
    "                    print(f\"OS Windows result: {windows_result}\")\n",
    "                    print(f\"OS macOS result:   {macos_result}\")\n",
    "                    print(f\"OS Linux result:   {linux_result}\\n\")\n",
    "\n",
    "                parts = line.split(maxsplit=1)\n",
    "                current_test = parts[0]\n",
    "                test_description = parts[1] if len(parts) > 1 else \"\"\n",
    "                windows_result = \"\"\n",
    "                macos_result = \"\"\n",
    "                linux_result = \"\"\n",
    "\n",
    "            elif \"OS: Windows result:\" in line:\n",
    "                windows_result = line.split(\":\", 2)[2].strip()\n",
    "            elif \"OS: macOS result:\" in line:\n",
    "                macos_result = line.split(\":\", 2)[2].strip()\n",
    "            elif \"OS: Linux result:\" in line:\n",
    "                linux_result = line.split(\":\", 2)[2].strip()\n",
    "\n",
    "        if current_test:\n",
    "            print(f\"✅ search result: {current_test}\")\n",
    "            print(f\"{current_test}   {test_description}\")\n",
    "            print(f\"OS Windows result: {windows_result}\")\n",
    "            print(f\"OS macOS result:   {macos_result}\")\n",
    "            print(f\"OS Linux result:   {linux_result}\")\n"
   ]
  },
  {
   "cell_type": "markdown",
   "metadata": {},
   "source": [
    "### 4️⃣ Platform-specific Hash Results"
   ]
  },
  {
   "cell_type": "code",
   "execution_count": 38,
   "metadata": {},
   "outputs": [
    {
     "name": "stdout",
     "output_type": "stream",
     "text": [
      "操作系统: Windows 10\n",
      "Python 版本: 3.11.3 | packaged by Anaconda, Inc. | (main, Apr 19 2023, 23:46:34) [MSC v.1916 64 bit (AMD64)]\n"
     ]
    }
   ],
   "source": [
    "describe_environment()"
   ]
  },
  {
   "cell_type": "code",
   "execution_count": 39,
   "metadata": {},
   "outputs": [
    {
     "name": "stdout",
     "output_type": "stream",
     "text": [
      "操作系统: Windows 10\n",
      "Python 版本: 3.11.3 | packaged by Anaconda, Inc. | (main, Apr 19 2023, 23:46:34) [MSC v.1916 64 bit (AMD64)]\n"
     ]
    }
   ],
   "source": [
    "describe_environment()"
   ]
  },
  {
   "cell_type": "code",
   "execution_count": 40,
   "metadata": {},
   "outputs": [
    {
     "name": "stdout",
     "output_type": "stream",
     "text": [
      "操作系统: Windows 10\n",
      "Python 版本: 3.11.3 | packaged by Anaconda, Inc. | (main, Apr 19 2023, 23:46:34) [MSC v.1916 64 bit (AMD64)]\n"
     ]
    }
   ],
   "source": [
    "describe_environment()"
   ]
  },
  {
   "cell_type": "code",
   "execution_count": 43,
   "metadata": {},
   "outputs": [
    {
     "name": "stdout",
     "output_type": "stream",
     "text": [
      "✅ search result: TC_OS_01-A\n",
      "TC_OS_01-A   Max 64-bit int\n",
      "OS Windows result: a6d2c4015b1ac7cdb57d88d220317a5fc2ee30d3e9429988ff53f54b39f1ca97\n",
      "OS macOS result:   a6d2c4015b1ac7cdb57d88d220317a5fc2ee30d3e9429988ff53f54b39f1ca97\n",
      "OS Linux result:   a6d2c4015b1ac7cdb57d88d220317a5fc2ee30d3e9429988ff53f54b39f1ca97\n",
      "\n",
      "✅ search result: TC_OS_01-B\n",
      "TC_OS_01-B   Infinity\n",
      "OS Windows result: 1b51ffe28645d16d1d34475071eef737ef4c1ea09eb443761da2d75821bf3398\n",
      "OS macOS result:   1b51ffe28645d16d1d34475071eef737ef4c1ea09eb443761da2d75821bf3398\n",
      "OS Linux result:   1b51ffe28645d16d1d34475071eef737ef4c1ea09eb443761da2d75821bf3398\n",
      "\n",
      "✅ search result: TC_OS_01-C\n",
      "TC_OS_01-C   NaN\n",
      "OS Windows result: 3d9d4af6ee01677bd51d3efb4dca6c1339ae8b2a73102f65990a6cbd7625eba9\n",
      "OS macOS result:   3d9d4af6ee01677bd51d3efb4dca6c1339ae8b2a73102f65990a6cbd7625eba9\n",
      "OS Linux result:   3d9d4af6ee01677bd51d3efb4dca6c1339ae8b2a73102f65990a6cbd7625eba9\n",
      "\n",
      "✅ search result: TC_OS_02-A\n",
      "TC_OS_02-A   Self-referential list\n",
      "OS Windows result: 86dc462a0a5b079247e5f114fc256ec30e1e31b7a7d28965ea18ec2021941dc2\n",
      "OS macOS result:   86dc462a0a5b079247e5f114fc256ec30e1e31b7a7d28965ea18ec2021941dc2\n",
      "OS Linux result:   86dc462a0a5b079247e5f114fc256ec30e1e31b7a7d28965ea18ec2021941dc2\n",
      "\n",
      "✅ search result: TC_OS_02-B\n",
      "TC_OS_02-B   Deque with maxlen\n",
      "OS Windows result: e5fb262e3c0dd77be417ace4aa8643b2b4242159bfb24a59e2171c31eb88763a\n",
      "OS macOS result:   e5fb262e3c0dd77be417ace4aa8643b2b4242159bfb24a59e2171c31eb88763a\n",
      "OS Linux result:   e5fb262e3c0dd77be417ace4aa8643b2b4242159bfb24a59e2171c31eb88763a\n",
      "\n",
      "✅ search result: TC_OS_03-A\n",
      "TC_OS_03-A   Self-referential class\n",
      "OS Windows result: 1ab20fabfe845e0b4467616771a9644565774bff195d8f576161df0f2fdb517e\n",
      "OS macOS result:   1ab20fabfe845e0b4467616771a9644565774bff195d8f576161df0f2fdb517e\n",
      "OS Linux result:   1ab20fabfe845e0b4467616771a9644565774bff195d8f576161df0f2fdb517e\n",
      "\n",
      "✅ search result: TC_OS_03-B\n",
      "TC_OS_03-B   Lambda function\n",
      "OS Windows result: FAILED: Can't pickle local object 'run_pickle_os_tests.<locals>.<lambda>'\n",
      "OS macOS result:   FAILED: Can't pickle local object 'run_pickle_os_tests.<locals>.<lambda>'\n",
      "OS Linux result:   FAILED: Can't pickle local object 'run_pickle_os_tests.<locals>.<lambda>'\n",
      "\n",
      "✅ search result: TC_OS_03-C\n",
      "TC_OS_03-C   Class with __reduce__\n",
      "OS Windows result: b7ed9817af756736df1e34f099e2535a14166fd1f583d222cc9c4e6ca151c778\n",
      "OS macOS result:   b7ed9817af756736df1e34f099e2535a14166fd1f583d222cc9c4e6ca151c778\n",
      "OS Linux result:   b7ed9817af756736df1e34f099e2535a14166fd1f583d222cc9c4e6ca151c778\n"
     ]
    }
   ],
   "source": [
    "print_os_test_results()"
   ]
  },
  {
   "cell_type": "markdown",
   "metadata": {},
   "source": [
    "### 5️⃣ Consistency Analysis and Divergence Detection\n",
    "\n",
    "All test cases were executed on Windows, macOS, and Linux platforms with Python 3.x. The serialized outputs from `pickle.dumps()` were hashed using SHA256 and compared across platforms.\n",
    "\n",
    "**Result Summary:**  \n",
    "- All 8 test cases that completed successfully produced identical hashes across Windows, macOS, and Linux.  \n",
    "- The lambda function serialization failed consistently on all platforms with the same error message.\n",
    "\n",
    "#### ✅ Test cases with consistent behavior across platforms:\n",
    "\n",
    "| Test Case ID | Description            | Consistency Type           |\n",
    "|--------------|------------------------|----------------------------|\n",
    "| TC_OS_01-A   | Max 64-bit int         | Identical hash outputs     |\n",
    "| TC_OS_01-B   | Infinity               | Identical hash outputs     |\n",
    "| TC_OS_01-C   | NaN                    | Identical hash outputs     |\n",
    "| TC_OS_02-A   | Self-referential list  | Identical hash outputs     |\n",
    "| TC_OS_02-B   | Deque with maxlen      | Identical hash outputs     |\n",
    "| TC_OS_03-A   | Self-referential class | Identical hash outputs     |\n",
    "| TC_OS_03-B   | Lambda function        | Consistent failure pattern |\n",
    "| TC_OS_03-C   | Class with __reduce__  | Identical hash outputs     |\n",
    "\n",
    "#### ⚠️ Test case with consistent failure on all platforms:\n",
    "\n",
    "| Test Case ID | Description     | Failure Reason                      |\n",
    "|--------------|-----------------|------------------------------------|\n",
    "| TC_OS_03-B   | Lambda function | Can't pickle local lambda function |\n",
    "\n",
    "---\n",
    "\n",
    "### ✅ Platform-Independent Findings:\n",
    "1. **Lambda function serialization** fails uniformly across Windows, macOS, and Linux → confirms Python's pickle cannot serialize local lambda functions regardless of OS.  \n",
    "2. All other test cases produce **exactly the same SHA256 hash** on all platforms → serialization outputs are platform-independent for tested Python version(s).  \n",
    "3. This suggests **pickle serialization is consistent across OS** for the tested object types and Python version, ensuring reproducible serialization hashes for these cases.  \n",
    "4. The identical hashes enable confident use of hash-based integrity or caching mechanisms across different OS environments.\n"
   ]
  },
  {
   "cell_type": "markdown",
   "metadata": {},
   "source": [
    "### 6️⃣ Conclusions and Findings\n",
    "\n",
    "Cross-platform testing of Python's `pickle` module on Windows, macOS, and Linux revealed **high consistency in serialization outputs** for the tested cases.\n",
    "\n",
    "#### 🔍 Key Findings:\n",
    "\n",
    "- ✅ All successfully serialized objects produced **identical SHA256 hashes** across Windows, macOS, and Linux, confirming platform-independent serialization for these cases;\n",
    "- ❌ Lambda functions consistently failed to serialize on all platforms with the same error message, reflecting a known limitation of `pickle`;\n",
    "- ✅ Deserialization worked successfully for all valid serialized objects across platforms, preserving functional behavior.\n",
    "\n",
    "#### ⚠️ Limitations:\n",
    "\n",
    "- Testing was limited to a single Python version and did not explore multiple protocol versions — different protocols may affect serialization consistency;\n",
    "- Complex or deeply nested objects beyond those tested here were not included and may exhibit different behaviors;\n",
    "- Testing did not cover heterogeneous architectures such as ARM or 32-bit systems, where serialization differences may arise.\n",
    "\n",
    "> Future work should expand testing to multiple Python versions, diverse pickle protocols, and more complex object structures to further validate cross-platform serialization consistency and detect any edge case divergences.\n"
   ]
  },
  {
   "cell_type": "markdown",
   "metadata": {},
   "source": []
  }
 ],
 "metadata": {
  "kernelspec": {
   "display_name": "Python 3 (ipykernel)",
   "language": "python",
   "name": "python3"
  },
  "language_info": {
   "codemirror_mode": {
    "name": "ipython",
    "version": 3
   },
   "file_extension": ".py",
   "mimetype": "text/x-python",
   "name": "python",
   "nbconvert_exporter": "python",
   "pygments_lexer": "ipython3",
   "version": "3.11.3"
  }
 },
 "nbformat": 4,
 "nbformat_minor": 2
}
